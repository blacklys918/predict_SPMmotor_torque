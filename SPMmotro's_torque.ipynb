{
 "cells": [
  {
   "cell_type": "code",
   "execution_count": 1,
   "metadata": {},
   "outputs": [],
   "source": [
    "import numpy as np\n",
    "import pandas as pd\n",
    "import matplotlib.pyplot as plt\n",
    "from sklearn import linear_model\n",
    "from sklearn.model_selection import train_test_split\n",
    "from sklearn.linear_model import LinearRegression\n",
    "from sklearn.feature_selection import f_regression"
   ]
  },
  {
   "cell_type": "code",
   "execution_count": 2,
   "metadata": {},
   "outputs": [
    {
     "data": {
      "text/html": [
       "<div>\n",
       "<style scoped>\n",
       "    .dataframe tbody tr th:only-of-type {\n",
       "        vertical-align: middle;\n",
       "    }\n",
       "\n",
       "    .dataframe tbody tr th {\n",
       "        vertical-align: top;\n",
       "    }\n",
       "\n",
       "    .dataframe thead th {\n",
       "        text-align: right;\n",
       "    }\n",
       "</style>\n",
       "<table border=\"1\" class=\"dataframe\">\n",
       "  <thead>\n",
       "    <tr style=\"text-align: right;\">\n",
       "      <th></th>\n",
       "      <th>Ag</th>\n",
       "      <th>IRr</th>\n",
       "      <th>Mag_w</th>\n",
       "      <th>ModelDepth</th>\n",
       "      <th>ORr</th>\n",
       "      <th>Torque</th>\n",
       "    </tr>\n",
       "  </thead>\n",
       "  <tbody>\n",
       "    <tr>\n",
       "      <th>0</th>\n",
       "      <td>0.185</td>\n",
       "      <td>6.75</td>\n",
       "      <td>5.5</td>\n",
       "      <td>23.80</td>\n",
       "      <td>9.25</td>\n",
       "      <td>7.744282</td>\n",
       "    </tr>\n",
       "    <tr>\n",
       "      <th>1</th>\n",
       "      <td>0.185</td>\n",
       "      <td>6.75</td>\n",
       "      <td>5.5</td>\n",
       "      <td>29.75</td>\n",
       "      <td>9.25</td>\n",
       "      <td>9.680614</td>\n",
       "    </tr>\n",
       "    <tr>\n",
       "      <th>2</th>\n",
       "      <td>0.185</td>\n",
       "      <td>6.75</td>\n",
       "      <td>5.5</td>\n",
       "      <td>35.70</td>\n",
       "      <td>9.25</td>\n",
       "      <td>11.616599</td>\n",
       "    </tr>\n",
       "    <tr>\n",
       "      <th>3</th>\n",
       "      <td>0.185</td>\n",
       "      <td>6.75</td>\n",
       "      <td>5.5</td>\n",
       "      <td>41.65</td>\n",
       "      <td>9.25</td>\n",
       "      <td>13.552587</td>\n",
       "    </tr>\n",
       "    <tr>\n",
       "      <th>4</th>\n",
       "      <td>0.185</td>\n",
       "      <td>6.75</td>\n",
       "      <td>5.5</td>\n",
       "      <td>47.60</td>\n",
       "      <td>9.25</td>\n",
       "      <td>15.488918</td>\n",
       "    </tr>\n",
       "  </tbody>\n",
       "</table>\n",
       "</div>"
      ],
      "text/plain": [
       "      Ag   IRr  Mag_w  ModelDepth   ORr     Torque\n",
       "0  0.185  6.75    5.5       23.80  9.25   7.744282\n",
       "1  0.185  6.75    5.5       29.75  9.25   9.680614\n",
       "2  0.185  6.75    5.5       35.70  9.25  11.616599\n",
       "3  0.185  6.75    5.5       41.65  9.25  13.552587\n",
       "4  0.185  6.75    5.5       47.60  9.25  15.488918"
      ]
     },
     "execution_count": 2,
     "metadata": {},
     "output_type": "execute_result"
    }
   ],
   "source": [
    "df = pd.read_csv(\"trainTorque.csv\") \n",
    "df.head()"
   ]
  },
  {
   "cell_type": "code",
   "execution_count": 3,
   "metadata": {},
   "outputs": [],
   "source": [
    "features =[\n",
    "    \"air_gap\",\n",
    "    \"InnerRotorR\"\n",
    "    \"Mag_w\",\n",
    "    \"ModelDepth\",\n",
    "    \"OuterRoterR\"\n",
    "]\n",
    "\n",
    "target= \"Torque(N-m)\""
   ]
  },
  {
   "cell_type": "code",
   "execution_count": 4,
   "metadata": {},
   "outputs": [
    {
     "data": {
      "text/html": [
       "<div>\n",
       "<style scoped>\n",
       "    .dataframe tbody tr th:only-of-type {\n",
       "        vertical-align: middle;\n",
       "    }\n",
       "\n",
       "    .dataframe tbody tr th {\n",
       "        vertical-align: top;\n",
       "    }\n",
       "\n",
       "    .dataframe thead th {\n",
       "        text-align: right;\n",
       "    }\n",
       "</style>\n",
       "<table border=\"1\" class=\"dataframe\">\n",
       "  <thead>\n",
       "    <tr style=\"text-align: right;\">\n",
       "      <th></th>\n",
       "      <th>Ag</th>\n",
       "      <th>IRr</th>\n",
       "      <th>Mag_w</th>\n",
       "      <th>ModelDepth</th>\n",
       "      <th>ORr</th>\n",
       "    </tr>\n",
       "  </thead>\n",
       "  <tbody>\n",
       "    <tr>\n",
       "      <th>0</th>\n",
       "      <td>0.185</td>\n",
       "      <td>6.75</td>\n",
       "      <td>5.5</td>\n",
       "      <td>23.80</td>\n",
       "      <td>9.25</td>\n",
       "    </tr>\n",
       "    <tr>\n",
       "      <th>1</th>\n",
       "      <td>0.185</td>\n",
       "      <td>6.75</td>\n",
       "      <td>5.5</td>\n",
       "      <td>29.75</td>\n",
       "      <td>9.25</td>\n",
       "    </tr>\n",
       "    <tr>\n",
       "      <th>2</th>\n",
       "      <td>0.185</td>\n",
       "      <td>6.75</td>\n",
       "      <td>5.5</td>\n",
       "      <td>35.70</td>\n",
       "      <td>9.25</td>\n",
       "    </tr>\n",
       "    <tr>\n",
       "      <th>3</th>\n",
       "      <td>0.185</td>\n",
       "      <td>6.75</td>\n",
       "      <td>5.5</td>\n",
       "      <td>41.65</td>\n",
       "      <td>9.25</td>\n",
       "    </tr>\n",
       "    <tr>\n",
       "      <th>4</th>\n",
       "      <td>0.185</td>\n",
       "      <td>6.75</td>\n",
       "      <td>5.5</td>\n",
       "      <td>47.60</td>\n",
       "      <td>9.25</td>\n",
       "    </tr>\n",
       "  </tbody>\n",
       "</table>\n",
       "</div>"
      ],
      "text/plain": [
       "      Ag   IRr  Mag_w  ModelDepth   ORr\n",
       "0  0.185  6.75    5.5       23.80  9.25\n",
       "1  0.185  6.75    5.5       29.75  9.25\n",
       "2  0.185  6.75    5.5       35.70  9.25\n",
       "3  0.185  6.75    5.5       41.65  9.25\n",
       "4  0.185  6.75    5.5       47.60  9.25"
      ]
     },
     "execution_count": 4,
     "metadata": {},
     "output_type": "execute_result"
    }
   ],
   "source": [
    "targets=df[\"Torque\"]\n",
    "df.drop(columns=[\"Torque\"], inplace=True)\n",
    "df.head()"
   ]
  },
  {
   "cell_type": "code",
   "execution_count": 5,
   "metadata": {},
   "outputs": [],
   "source": [
    "features_vectors=df.values"
   ]
  },
  {
   "cell_type": "code",
   "execution_count": 6,
   "metadata": {},
   "outputs": [],
   "source": [
    "X_train, X_test, Y_train, Y_test= train_test_split(features_vectors, targets ,test_size=0.2,random_state=1)"
   ]
  },
  {
   "cell_type": "code",
   "execution_count": 7,
   "metadata": {},
   "outputs": [
    {
     "name": "stdout",
     "output_type": "stream",
     "text": [
      "Slope: -4.704259582682475\n",
      "Intercept: 8.81832592824639\n"
     ]
    }
   ],
   "source": [
    "reg=linear_model.LinearRegression()\n",
    "reg.fit(X_train, Y_train)\n",
    "print(\"Slope:\", reg.coef_[0])\n",
    "print(\"Intercept:\", reg.intercept_)"
   ]
  },
  {
   "cell_type": "code",
   "execution_count": 8,
   "metadata": {},
   "outputs": [
    {
     "name": "stdout",
     "output_type": "stream",
     "text": [
      "F values: [  88.57808417   53.31124806   37.16136434 1629.90919568  290.88436165]\n",
      "p values: [1.57203358e-020 4.39923824e-013 1.34983456e-009 8.97925939e-249\n",
      " 3.21037758e-060]\n"
     ]
    }
   ],
   "source": [
    "F_values, p_values =f_regression(X_train ,Y_train)\n",
    "print(\"F values:\", F_values)\n",
    "print(\"p values:\", p_values)"
   ]
  },
  {
   "cell_type": "code",
   "execution_count": 9,
   "metadata": {},
   "outputs": [
    {
     "data": {
      "text/plain": [
       "[('Ag', 88.57808417452418),\n",
       " ('IRr', 53.31124806431245),\n",
       " ('Mag_w', 37.16136433732121),\n",
       " ('ModelDepth', 1629.9091956842385),\n",
       " ('ORr', 290.8843616544262)]"
      ]
     },
     "execution_count": 9,
     "metadata": {},
     "output_type": "execute_result"
    }
   ],
   "source": [
    "features_and_f_values= list(zip(df.columns,F_values))\n",
    "features_and_f_values"
   ]
  },
  {
   "cell_type": "code",
   "execution_count": 10,
   "metadata": {},
   "outputs": [],
   "source": [
    "df_test=pd.read_csv(\"predict.csv\")\n"
   ]
  },
  {
   "cell_type": "code",
   "execution_count": 11,
   "metadata": {},
   "outputs": [
    {
     "name": "stdout",
     "output_type": "stream",
     "text": [
      "(4,)\n",
      "(4, 5)\n"
     ]
    }
   ],
   "source": [
    "x=df_test.values\n",
    "y_te_pred=reg.predict(x)\n",
    "print(y_te_pred.shape)\n",
    "print(x.shape)"
   ]
  },
  {
   "cell_type": "code",
   "execution_count": 12,
   "metadata": {},
   "outputs": [
    {
     "data": {
      "text/html": [
       "<div>\n",
       "<style scoped>\n",
       "    .dataframe tbody tr th:only-of-type {\n",
       "        vertical-align: middle;\n",
       "    }\n",
       "\n",
       "    .dataframe tbody tr th {\n",
       "        vertical-align: top;\n",
       "    }\n",
       "\n",
       "    .dataframe thead th {\n",
       "        text-align: right;\n",
       "    }\n",
       "</style>\n",
       "<table border=\"1\" class=\"dataframe\">\n",
       "  <thead>\n",
       "    <tr style=\"text-align: right;\">\n",
       "      <th></th>\n",
       "      <th>torque(N-m)</th>\n",
       "    </tr>\n",
       "  </thead>\n",
       "  <tbody>\n",
       "    <tr>\n",
       "      <th>0</th>\n",
       "      <td>11.655522</td>\n",
       "    </tr>\n",
       "    <tr>\n",
       "      <th>1</th>\n",
       "      <td>23.776905</td>\n",
       "    </tr>\n",
       "    <tr>\n",
       "      <th>2</th>\n",
       "      <td>23.110945</td>\n",
       "    </tr>\n",
       "    <tr>\n",
       "      <th>3</th>\n",
       "      <td>19.673405</td>\n",
       "    </tr>\n",
       "  </tbody>\n",
       "</table>\n",
       "</div>"
      ],
      "text/plain": [
       "   torque(N-m)\n",
       "0    11.655522\n",
       "1    23.776905\n",
       "2    23.110945\n",
       "3    19.673405"
      ]
     },
     "execution_count": 12,
     "metadata": {},
     "output_type": "execute_result"
    }
   ],
   "source": [
    "prediction = pd.DataFrame(y_te_pred, columns=[\"torque(N-m)\"])\n",
    "prediction"
   ]
  },
  {
   "cell_type": "code",
   "execution_count": null,
   "metadata": {},
   "outputs": [],
   "source": []
  }
 ],
 "metadata": {
  "kernelspec": {
   "display_name": "Python 3",
   "language": "python",
   "name": "python3"
  },
  "language_info": {
   "codemirror_mode": {
    "name": "ipython",
    "version": 3
   },
   "file_extension": ".py",
   "mimetype": "text/x-python",
   "name": "python",
   "nbconvert_exporter": "python",
   "pygments_lexer": "ipython3",
   "version": "3.7.3"
  }
 },
 "nbformat": 4,
 "nbformat_minor": 2
}
